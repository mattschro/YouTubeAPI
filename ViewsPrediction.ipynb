{
 "cells": [
  {
   "attachments": {},
   "cell_type": "markdown",
   "metadata": {},
   "source": [
    "## Importing Libraries"
   ]
  },
  {
   "cell_type": "code",
   "execution_count": 17,
   "metadata": {},
   "outputs": [],
   "source": [
    "import sklearn\n",
    "from sklearn.linear_model import LinearRegression\n",
    "from sklearn.model_selection import train_test_split\n",
    "from sklearn.model_selection import KFold\n",
    "from sklearn.metrics import mean_squared_error, r2_score\n",
    "from sklearn.neighbors import KNeighborsRegressor\n",
    "import pandas as pd\n",
    "import numpy as np"
   ]
  },
  {
   "attachments": {},
   "cell_type": "markdown",
   "metadata": {},
   "source": [
    "## Reading in Data (Created in Other .ipynb file)"
   ]
  },
  {
   "cell_type": "code",
   "execution_count": 8,
   "metadata": {},
   "outputs": [
    {
     "data": {
      "text/html": [
       "<div>\n",
       "<style scoped>\n",
       "    .dataframe tbody tr th:only-of-type {\n",
       "        vertical-align: middle;\n",
       "    }\n",
       "\n",
       "    .dataframe tbody tr th {\n",
       "        vertical-align: top;\n",
       "    }\n",
       "\n",
       "    .dataframe thead th {\n",
       "        text-align: right;\n",
       "    }\n",
       "</style>\n",
       "<table border=\"1\" class=\"dataframe\">\n",
       "  <thead>\n",
       "    <tr style=\"text-align: right;\">\n",
       "      <th></th>\n",
       "      <th>Days Since Published</th>\n",
       "      <th>Views</th>\n",
       "      <th>Likes</th>\n",
       "      <th>Comments</th>\n",
       "      <th>Duration in Minutes</th>\n",
       "    </tr>\n",
       "  </thead>\n",
       "  <tbody>\n",
       "    <tr>\n",
       "      <th>0</th>\n",
       "      <td>24</td>\n",
       "      <td>79408982</td>\n",
       "      <td>3533170</td>\n",
       "      <td>133983</td>\n",
       "      <td>12.167</td>\n",
       "    </tr>\n",
       "    <tr>\n",
       "      <th>1</th>\n",
       "      <td>38</td>\n",
       "      <td>94497580</td>\n",
       "      <td>4089840</td>\n",
       "      <td>121292</td>\n",
       "      <td>10.417</td>\n",
       "    </tr>\n",
       "    <tr>\n",
       "      <th>2</th>\n",
       "      <td>40</td>\n",
       "      <td>457205770</td>\n",
       "      <td>25690316</td>\n",
       "      <td>54637</td>\n",
       "      <td>0.800</td>\n",
       "    </tr>\n",
       "    <tr>\n",
       "      <th>3</th>\n",
       "      <td>45</td>\n",
       "      <td>99263866</td>\n",
       "      <td>3018711</td>\n",
       "      <td>90445</td>\n",
       "      <td>15.383</td>\n",
       "    </tr>\n",
       "    <tr>\n",
       "      <th>4</th>\n",
       "      <td>59</td>\n",
       "      <td>108386817</td>\n",
       "      <td>7753021</td>\n",
       "      <td>18893</td>\n",
       "      <td>0.683</td>\n",
       "    </tr>\n",
       "  </tbody>\n",
       "</table>\n",
       "</div>"
      ],
      "text/plain": [
       "   Days Since Published      Views     Likes  Comments  Duration in Minutes\n",
       "0                    24   79408982   3533170    133983               12.167\n",
       "1                    38   94497580   4089840    121292               10.417\n",
       "2                    40  457205770  25690316     54637                0.800\n",
       "3                    45   99263866   3018711     90445               15.383\n",
       "4                    59  108386817   7753021     18893                0.683"
      ]
     },
     "execution_count": 8,
     "metadata": {},
     "output_type": "execute_result"
    }
   ],
   "source": [
    "# read the csv MrBeast/MrBeast_2023-01-17.csv\n",
    "df = pd.read_csv('MrBeast/MrBeast_2023-01-17.csv')\n",
    "df.head()\n",
    "\n",
    "# only keep days since published, views,likes, comments, and duration\n",
    "df = df[['Days Since Published', 'Views', 'Likes', 'Comments', 'Duration in Minutes']]\n",
    "df.head()"
   ]
  },
  {
   "attachments": {},
   "cell_type": "markdown",
   "metadata": {},
   "source": [
    "## Linear Regression"
   ]
  },
  {
   "cell_type": "code",
   "execution_count": 13,
   "metadata": {},
   "outputs": [
    {
     "data": {
      "text/plain": [
       "26763543.216255773"
      ]
     },
     "execution_count": 13,
     "metadata": {},
     "output_type": "execute_result"
    }
   ],
   "source": [
    "kf = KFold(n_splits=10)\n",
    "mse_values = []\n",
    "\n",
    "# Loop through the splits\n",
    "for train_index, test_index in kf.split(df):\n",
    "    train_df, test_df = df.iloc[train_index], df.iloc[test_index]\n",
    "    \n",
    "    # data sets\n",
    "    X_train = df.drop(['Views'], axis=1).iloc[train_index]\n",
    "    X_test = df.drop(['Views'], axis=1).iloc[test_index]\n",
    "    Y_train = df['Views'].iloc[train_index]\n",
    "    Y_test = df['Views'].iloc[test_index]\n",
    "    \n",
    "    # Create the linear regression model\n",
    "    lr = LinearRegression()\n",
    "    \n",
    "    # Fitting model\n",
    "    lr.fit(X_train, Y_train)\n",
    "    \n",
    "    # Test data predictions\n",
    "    predictions = lr.predict(X_test)\n",
    "    \n",
    "    # Calculate MSE, appending\n",
    "    mse = mean_squared_error(Y_test, predictions)\n",
    "    mse_values.append(mse)\n",
    "\n",
    "\n",
    "mean_rmse_all = np.mean(mse_values) ** (1/2)\n",
    "mean_rmse_all"
   ]
  },
  {
   "attachments": {},
   "cell_type": "markdown",
   "metadata": {},
   "source": [
    "## KNN"
   ]
  },
  {
   "cell_type": "code",
   "execution_count": 19,
   "metadata": {},
   "outputs": [],
   "source": [
    "# specify the values of the k and distance metric parameters that you want to test\n",
    "k_values = []\n",
    "for i in range(1,50,2):\n",
    "    k_values.append(i)\n",
    "rmses = []\n",
    "temp = []\n",
    "\n",
    "# loop over the folds and the parameter values\n",
    "for k in k_values:\n",
    "    for train_index, test_index in kf.split(df):\n",
    "        # data sets\n",
    "        X_train = df.drop(['Views'], axis=1).iloc[train_index]\n",
    "        X_test = df.drop(['Views'], axis=1).iloc[test_index]\n",
    "        Y_train = df['Views'].iloc[train_index]\n",
    "        Y_test = df['Views'].iloc[test_index]\n",
    "        \n",
    "        # train KNN\n",
    "        knn = KNeighborsRegressor(n_neighbors=k)\n",
    "        knn.fit(X_train, Y_train)\n",
    "        \n",
    "        # predict\n",
    "        y_pred = knn.predict(X_test)\n",
    "        rmse = np.sqrt(mean_squared_error(Y_test, y_pred))\n",
    "        temp.append(rmse)\n",
    "    rmses.append([k, sum(temp)/len(temp)])"
   ]
  },
  {
   "cell_type": "code",
   "execution_count": 21,
   "metadata": {},
   "outputs": [
    {
     "data": {
      "text/html": [
       "<div>\n",
       "<style scoped>\n",
       "    .dataframe tbody tr th:only-of-type {\n",
       "        vertical-align: middle;\n",
       "    }\n",
       "\n",
       "    .dataframe tbody tr th {\n",
       "        vertical-align: top;\n",
       "    }\n",
       "\n",
       "    .dataframe thead th {\n",
       "        text-align: right;\n",
       "    }\n",
       "</style>\n",
       "<table border=\"1\" class=\"dataframe\">\n",
       "  <thead>\n",
       "    <tr style=\"text-align: right;\">\n",
       "      <th></th>\n",
       "      <th>k</th>\n",
       "      <th>rmse</th>\n",
       "    </tr>\n",
       "  </thead>\n",
       "  <tbody>\n",
       "    <tr>\n",
       "      <th>22</th>\n",
       "      <td>45</td>\n",
       "      <td>1.356780e+07</td>\n",
       "    </tr>\n",
       "  </tbody>\n",
       "</table>\n",
       "</div>"
      ],
      "text/plain": [
       "     k          rmse\n",
       "22  45  1.356780e+07"
      ]
     },
     "execution_count": 21,
     "metadata": {},
     "output_type": "execute_result"
    }
   ],
   "source": [
    "# converting to a dataframe\n",
    "knn_rmse = pd.DataFrame(rmses, columns=['k', 'rmse'])\n",
    "#min rmse row\n",
    "knn_rmse[knn_rmse['rmse'] == knn_rmse['rmse'].min()]"
   ]
  },
  {
   "attachments": {},
   "cell_type": "markdown",
   "metadata": {},
   "source": [
    "The RMSE when using KNN is roughly 13.57 million, which is about half of the error when using linear regression"
   ]
  }
 ],
 "metadata": {
  "kernelspec": {
   "display_name": "Python 3",
   "language": "python",
   "name": "python3"
  },
  "language_info": {
   "codemirror_mode": {
    "name": "ipython",
    "version": 3
   },
   "file_extension": ".py",
   "mimetype": "text/x-python",
   "name": "python",
   "nbconvert_exporter": "python",
   "pygments_lexer": "ipython3",
   "version": "3.8.5"
  },
  "orig_nbformat": 4,
  "vscode": {
   "interpreter": {
    "hash": "67fcb5a32aede135e936c8dabe594dad08e50e0ebc6b6bf72e19386aec0b276d"
   }
  }
 },
 "nbformat": 4,
 "nbformat_minor": 2
}
