{
 "cells": [
  {
   "attachments": {},
   "cell_type": "markdown",
   "metadata": {},
   "source": [
    "## Importing Libraries"
   ]
  },
  {
   "cell_type": "code",
   "execution_count": 9,
   "metadata": {},
   "outputs": [],
   "source": [
    "import sklearn\n",
    "from sklearn.linear_model import LinearRegression\n",
    "from sklearn.model_selection import train_test_split\n",
    "from sklearn.model_selection import KFold\n",
    "from sklearn.metrics import mean_squared_error, r2_score\n",
    "from sklearn.neighbors import KNeighborsRegressor\n",
    "import pandas as pd\n",
    "import numpy as np\n",
    "import matplotlib.pyplot as plt"
   ]
  },
  {
   "attachments": {},
   "cell_type": "markdown",
   "metadata": {},
   "source": [
    "## Reading in Data (Created in Other .ipynb file)"
   ]
  },
  {
   "cell_type": "code",
   "execution_count": 2,
   "metadata": {},
   "outputs": [
    {
     "data": {
      "text/html": [
       "<div>\n",
       "<style scoped>\n",
       "    .dataframe tbody tr th:only-of-type {\n",
       "        vertical-align: middle;\n",
       "    }\n",
       "\n",
       "    .dataframe tbody tr th {\n",
       "        vertical-align: top;\n",
       "    }\n",
       "\n",
       "    .dataframe thead th {\n",
       "        text-align: right;\n",
       "    }\n",
       "</style>\n",
       "<table border=\"1\" class=\"dataframe\">\n",
       "  <thead>\n",
       "    <tr style=\"text-align: right;\">\n",
       "      <th></th>\n",
       "      <th>Days Since Published</th>\n",
       "      <th>Views</th>\n",
       "      <th>Likes</th>\n",
       "      <th>Comments</th>\n",
       "      <th>Duration in Minutes</th>\n",
       "    </tr>\n",
       "  </thead>\n",
       "  <tbody>\n",
       "    <tr>\n",
       "      <th>0</th>\n",
       "      <td>24</td>\n",
       "      <td>79408982</td>\n",
       "      <td>3533170</td>\n",
       "      <td>133983</td>\n",
       "      <td>12.167</td>\n",
       "    </tr>\n",
       "    <tr>\n",
       "      <th>1</th>\n",
       "      <td>38</td>\n",
       "      <td>94497580</td>\n",
       "      <td>4089840</td>\n",
       "      <td>121292</td>\n",
       "      <td>10.417</td>\n",
       "    </tr>\n",
       "    <tr>\n",
       "      <th>2</th>\n",
       "      <td>40</td>\n",
       "      <td>457205770</td>\n",
       "      <td>25690316</td>\n",
       "      <td>54637</td>\n",
       "      <td>0.800</td>\n",
       "    </tr>\n",
       "    <tr>\n",
       "      <th>3</th>\n",
       "      <td>45</td>\n",
       "      <td>99263866</td>\n",
       "      <td>3018711</td>\n",
       "      <td>90445</td>\n",
       "      <td>15.383</td>\n",
       "    </tr>\n",
       "    <tr>\n",
       "      <th>4</th>\n",
       "      <td>59</td>\n",
       "      <td>108386817</td>\n",
       "      <td>7753021</td>\n",
       "      <td>18893</td>\n",
       "      <td>0.683</td>\n",
       "    </tr>\n",
       "  </tbody>\n",
       "</table>\n",
       "</div>"
      ],
      "text/plain": [
       "   Days Since Published      Views     Likes  Comments  Duration in Minutes\n",
       "0                    24   79408982   3533170    133983               12.167\n",
       "1                    38   94497580   4089840    121292               10.417\n",
       "2                    40  457205770  25690316     54637                0.800\n",
       "3                    45   99263866   3018711     90445               15.383\n",
       "4                    59  108386817   7753021     18893                0.683"
      ]
     },
     "execution_count": 2,
     "metadata": {},
     "output_type": "execute_result"
    }
   ],
   "source": [
    "# read the csv MrBeast/MrBeast_2023-01-17.csv\n",
    "df = pd.read_csv('MrBeast/MrBeast_2023-01-17.csv')\n",
    "df.head()\n",
    "\n",
    "# only keep days since published, views,likes, comments, and duration\n",
    "df = df[['Days Since Published', 'Views', 'Likes', 'Comments', 'Duration in Minutes']]\n",
    "df.head()"
   ]
  },
  {
   "attachments": {},
   "cell_type": "markdown",
   "metadata": {},
   "source": [
    "## Linear Regression"
   ]
  },
  {
   "cell_type": "code",
   "execution_count": 5,
   "metadata": {},
   "outputs": [
    {
     "name": "stdout",
     "output_type": "stream",
     "text": [
      "The RMSE is 26763543.216255773\n"
     ]
    }
   ],
   "source": [
    "kf = KFold(n_splits=10)\n",
    "mse_values = []\n",
    "\n",
    "# Loop through the splits\n",
    "for train_index, test_index in kf.split(df):\n",
    "    train_df, test_df = df.iloc[train_index], df.iloc[test_index]\n",
    "    \n",
    "    # data sets\n",
    "    X_train = df.drop(['Views'], axis=1).iloc[train_index]\n",
    "    X_test = df.drop(['Views'], axis=1).iloc[test_index]\n",
    "    Y_train = df['Views'].iloc[train_index]\n",
    "    Y_test = df['Views'].iloc[test_index]\n",
    "    \n",
    "    # Create the linear regression model\n",
    "    lr = LinearRegression()\n",
    "    \n",
    "    # Fitting model\n",
    "    lr.fit(X_train, Y_train)\n",
    "    \n",
    "    # Test data predictions\n",
    "    predictions = lr.predict(X_test)\n",
    "    \n",
    "    # Calculate MSE, appending\n",
    "    mse = mean_squared_error(Y_test, predictions)\n",
    "    mse_values.append(mse)\n",
    "\n",
    "\n",
    "mean_rmse_all = np.mean(mse_values) ** (1/2)\n",
    "print('The RMSE is',mean_rmse_all)"
   ]
  },
  {
   "attachments": {},
   "cell_type": "markdown",
   "metadata": {},
   "source": [
    "## KNN"
   ]
  },
  {
   "cell_type": "code",
   "execution_count": 15,
   "metadata": {},
   "outputs": [],
   "source": [
    "# specify the values of the k and distance metric parameters that you want to test\n",
    "k_values = []\n",
    "for i in range(1,50,2):\n",
    "    k_values.append(i)\n",
    "rmses = []\n",
    "temp = []\n",
    "\n",
    "# loop over the folds and the parameter values\n",
    "for k in k_values:\n",
    "    for train_index, test_index in kf.split(df):\n",
    "        # data sets\n",
    "        X_train = df.drop(['Views'], axis=1).iloc[train_index]\n",
    "        X_test = df.drop(['Views'], axis=1).iloc[test_index]\n",
    "        Y_train = df['Views'].iloc[train_index]\n",
    "        Y_test = df['Views'].iloc[test_index]\n",
    "        \n",
    "        # train KNN\n",
    "        knn = KNeighborsRegressor(n_neighbors=k)\n",
    "        knn.fit(X_train, Y_train)\n",
    "        \n",
    "        # predict\n",
    "        y_pred = knn.predict(X_test)\n",
    "        rmse = np.sqrt(mean_squared_error(Y_test, y_pred))\n",
    "        temp.append(rmse)\n",
    "    rmses.append([k, sum(temp)/len(temp)])\n",
    "    temp = []"
   ]
  },
  {
   "cell_type": "code",
   "execution_count": 16,
   "metadata": {},
   "outputs": [
    {
     "data": {
      "text/html": [
       "<div>\n",
       "<style scoped>\n",
       "    .dataframe tbody tr th:only-of-type {\n",
       "        vertical-align: middle;\n",
       "    }\n",
       "\n",
       "    .dataframe tbody tr th {\n",
       "        vertical-align: top;\n",
       "    }\n",
       "\n",
       "    .dataframe thead th {\n",
       "        text-align: right;\n",
       "    }\n",
       "</style>\n",
       "<table border=\"1\" class=\"dataframe\">\n",
       "  <thead>\n",
       "    <tr style=\"text-align: right;\">\n",
       "      <th></th>\n",
       "      <th>k</th>\n",
       "      <th>rmse</th>\n",
       "    </tr>\n",
       "  </thead>\n",
       "  <tbody>\n",
       "    <tr>\n",
       "      <th>12</th>\n",
       "      <td>25</td>\n",
       "      <td>1.308683e+07</td>\n",
       "    </tr>\n",
       "  </tbody>\n",
       "</table>\n",
       "</div>"
      ],
      "text/plain": [
       "     k          rmse\n",
       "12  25  1.308683e+07"
      ]
     },
     "execution_count": 16,
     "metadata": {},
     "output_type": "execute_result"
    }
   ],
   "source": [
    "# converting to a dataframe\n",
    "knn_rmse = pd.DataFrame(rmses, columns=['k', 'rmse'])\n",
    "#min rmse row\n",
    "knn_rmse[knn_rmse['rmse'] == knn_rmse['rmse'].min()]"
   ]
  },
  {
   "cell_type": "code",
   "execution_count": 18,
   "metadata": {},
   "outputs": [
    {
     "data": {
      "text/html": [
       "<div>\n",
       "<style scoped>\n",
       "    .dataframe tbody tr th:only-of-type {\n",
       "        vertical-align: middle;\n",
       "    }\n",
       "\n",
       "    .dataframe tbody tr th {\n",
       "        vertical-align: top;\n",
       "    }\n",
       "\n",
       "    .dataframe thead th {\n",
       "        text-align: right;\n",
       "    }\n",
       "</style>\n",
       "<table border=\"1\" class=\"dataframe\">\n",
       "  <thead>\n",
       "    <tr style=\"text-align: right;\">\n",
       "      <th></th>\n",
       "      <th>k</th>\n",
       "      <th>rmse</th>\n",
       "    </tr>\n",
       "  </thead>\n",
       "  <tbody>\n",
       "    <tr>\n",
       "      <th>0</th>\n",
       "      <td>1</td>\n",
       "      <td>1.738879e+07</td>\n",
       "    </tr>\n",
       "    <tr>\n",
       "      <th>1</th>\n",
       "      <td>3</td>\n",
       "      <td>1.493805e+07</td>\n",
       "    </tr>\n",
       "    <tr>\n",
       "      <th>2</th>\n",
       "      <td>5</td>\n",
       "      <td>1.414247e+07</td>\n",
       "    </tr>\n",
       "    <tr>\n",
       "      <th>3</th>\n",
       "      <td>7</td>\n",
       "      <td>1.367863e+07</td>\n",
       "    </tr>\n",
       "    <tr>\n",
       "      <th>4</th>\n",
       "      <td>9</td>\n",
       "      <td>1.353296e+07</td>\n",
       "    </tr>\n",
       "    <tr>\n",
       "      <th>5</th>\n",
       "      <td>11</td>\n",
       "      <td>1.316000e+07</td>\n",
       "    </tr>\n",
       "    <tr>\n",
       "      <th>6</th>\n",
       "      <td>13</td>\n",
       "      <td>1.314746e+07</td>\n",
       "    </tr>\n",
       "    <tr>\n",
       "      <th>7</th>\n",
       "      <td>15</td>\n",
       "      <td>1.317489e+07</td>\n",
       "    </tr>\n",
       "    <tr>\n",
       "      <th>8</th>\n",
       "      <td>17</td>\n",
       "      <td>1.317861e+07</td>\n",
       "    </tr>\n",
       "    <tr>\n",
       "      <th>9</th>\n",
       "      <td>19</td>\n",
       "      <td>1.314717e+07</td>\n",
       "    </tr>\n",
       "    <tr>\n",
       "      <th>10</th>\n",
       "      <td>21</td>\n",
       "      <td>1.319846e+07</td>\n",
       "    </tr>\n",
       "    <tr>\n",
       "      <th>11</th>\n",
       "      <td>23</td>\n",
       "      <td>1.313754e+07</td>\n",
       "    </tr>\n",
       "    <tr>\n",
       "      <th>12</th>\n",
       "      <td>25</td>\n",
       "      <td>1.308683e+07</td>\n",
       "    </tr>\n",
       "    <tr>\n",
       "      <th>13</th>\n",
       "      <td>27</td>\n",
       "      <td>1.310811e+07</td>\n",
       "    </tr>\n",
       "    <tr>\n",
       "      <th>14</th>\n",
       "      <td>29</td>\n",
       "      <td>1.319789e+07</td>\n",
       "    </tr>\n",
       "    <tr>\n",
       "      <th>15</th>\n",
       "      <td>31</td>\n",
       "      <td>1.324783e+07</td>\n",
       "    </tr>\n",
       "    <tr>\n",
       "      <th>16</th>\n",
       "      <td>33</td>\n",
       "      <td>1.329647e+07</td>\n",
       "    </tr>\n",
       "    <tr>\n",
       "      <th>17</th>\n",
       "      <td>35</td>\n",
       "      <td>1.329618e+07</td>\n",
       "    </tr>\n",
       "    <tr>\n",
       "      <th>18</th>\n",
       "      <td>37</td>\n",
       "      <td>1.329597e+07</td>\n",
       "    </tr>\n",
       "    <tr>\n",
       "      <th>19</th>\n",
       "      <td>39</td>\n",
       "      <td>1.335870e+07</td>\n",
       "    </tr>\n",
       "    <tr>\n",
       "      <th>20</th>\n",
       "      <td>41</td>\n",
       "      <td>1.337341e+07</td>\n",
       "    </tr>\n",
       "    <tr>\n",
       "      <th>21</th>\n",
       "      <td>43</td>\n",
       "      <td>1.345981e+07</td>\n",
       "    </tr>\n",
       "    <tr>\n",
       "      <th>22</th>\n",
       "      <td>45</td>\n",
       "      <td>1.351308e+07</td>\n",
       "    </tr>\n",
       "    <tr>\n",
       "      <th>23</th>\n",
       "      <td>47</td>\n",
       "      <td>1.359044e+07</td>\n",
       "    </tr>\n",
       "    <tr>\n",
       "      <th>24</th>\n",
       "      <td>49</td>\n",
       "      <td>1.369538e+07</td>\n",
       "    </tr>\n",
       "  </tbody>\n",
       "</table>\n",
       "</div>"
      ],
      "text/plain": [
       "     k          rmse\n",
       "0    1  1.738879e+07\n",
       "1    3  1.493805e+07\n",
       "2    5  1.414247e+07\n",
       "3    7  1.367863e+07\n",
       "4    9  1.353296e+07\n",
       "5   11  1.316000e+07\n",
       "6   13  1.314746e+07\n",
       "7   15  1.317489e+07\n",
       "8   17  1.317861e+07\n",
       "9   19  1.314717e+07\n",
       "10  21  1.319846e+07\n",
       "11  23  1.313754e+07\n",
       "12  25  1.308683e+07\n",
       "13  27  1.310811e+07\n",
       "14  29  1.319789e+07\n",
       "15  31  1.324783e+07\n",
       "16  33  1.329647e+07\n",
       "17  35  1.329618e+07\n",
       "18  37  1.329597e+07\n",
       "19  39  1.335870e+07\n",
       "20  41  1.337341e+07\n",
       "21  43  1.345981e+07\n",
       "22  45  1.351308e+07\n",
       "23  47  1.359044e+07\n",
       "24  49  1.369538e+07"
      ]
     },
     "execution_count": 18,
     "metadata": {},
     "output_type": "execute_result"
    }
   ],
   "source": [
    "knn_rmse"
   ]
  },
  {
   "cell_type": "code",
   "execution_count": 17,
   "metadata": {},
   "outputs": [
    {
     "data": {
      "text/plain": [
       "Text(0.5, 1.0, 'RMSE vs. k')"
      ]
     },
     "execution_count": 17,
     "metadata": {},
     "output_type": "execute_result"
    },
    {
     "data": {
      "image/png": "[encoded data removed]",
      "text/plain": [
       "<Figure size 432x288 with 1 Axes>"
      ]
     },
     "metadata": {
      "needs_background": "light"
     },
     "output_type": "display_data"
    }
   ],
   "source": [
    "# plotting rmse vs. k\n",
    "plt.plot(knn_rmse['k'], knn_rmse['rmse'])\n",
    "plt.xlabel('k')\n",
    "plt.ylabel('RMSE')\n",
    "plt.title('RMSE vs. k')"
   ]
  },
  {
   "attachments": {},
   "cell_type": "markdown",
   "metadata": {},
   "source": [
    "The RMSE when using KNN is roughly 13.09 million, which is about half of the error when using linear regression."
   ]
  }
 ],
 "metadata": {
  "kernelspec": {
   "display_name": "Python 3",
   "language": "python",
   "name": "python3"
  },
  "language_info": {
   "codemirror_mode": {
    "name": "ipython",
    "version": 3
   },
   "file_extension": ".py",
   "mimetype": "text/x-python",
   "name": "python",
   "nbconvert_exporter": "python",
   "pygments_lexer": "ipython3",
   "version": "3.8.5"
  },
  "orig_nbformat": 4,
  "vscode": {
   "interpreter": {
    "hash": "67fcb5a32aede135e936c8dabe594dad08e50e0ebc6b6bf72e19386aec0b276d"
   }
  }
 },
 "nbformat": 4,
 "nbformat_minor": 2
}
