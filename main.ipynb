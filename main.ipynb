{
 "cells": [
  {
   "attachments": {},
   "cell_type": "markdown",
   "metadata": {},
   "source": [
    "### Loading Python Libraries"
   ]
  },
  {
   "cell_type": "code",
   "execution_count": 38,
   "metadata": {},
   "outputs": [],
   "source": [
    "# loading necessary libraries\n",
    "import pandas as pd\n",
    "from googleapiclient.discovery import build\n",
    "import datetime"
   ]
  },
  {
   "attachments": {},
   "cell_type": "markdown",
   "metadata": {},
   "source": [
    "### Accessing the YouTube API"
   ]
  },
  {
   "attachments": {},
   "cell_type": "markdown",
   "metadata": {},
   "source": [
    "##### Accessing the Channel"
   ]
  },
  {
   "cell_type": "code",
   "execution_count": 39,
   "metadata": {},
   "outputs": [],
   "source": [
    "# key to access YouTube API (keep private)\n",
    "api_key = \"APIKEY\"\n",
    "\n",
    "# interacting with the API\n",
    "api_service_name = \"youtube\"\n",
    "api_version = \"v3\"\n",
    "\n",
    "youtube = build(\n",
    "    api_service_name, api_version, developerKey = api_key)\n",
    "\n",
    "request = youtube.channels().list(\n",
    "    part=\"snippet,contentDetails,statistics\",\n",
    "\n",
    "    # unique channel id that corresponds to the channel I'm interested in\n",
    "    id=\"UCIPPMRA040LQr5QPyJEbmXA\"\n",
    ")\n",
    "channel_response = request.execute()\n"
   ]
  },
  {
   "attachments": {},
   "cell_type": "markdown",
   "metadata": {},
   "source": [
    "##### Channel Statistics"
   ]
  },
  {
   "cell_type": "code",
   "execution_count": 40,
   "metadata": {},
   "outputs": [
    {
     "name": "stdout",
     "output_type": "stream",
     "text": [
      "Here are some statistics about the channel, MrBeast Gaming:\n",
      "Number of subscribers: 30,800,000\n",
      "Number of views: 5,419,152,626\n",
      "Number of videos: 138\n",
      "Upload ID: UUIPPMRA040LQr5QPyJEbmXA\n"
     ]
    }
   ],
   "source": [
    "number_of_subscribers = int(channel_response['items'][0]['statistics']['subscriberCount'])\n",
    "number_of_views = int(channel_response['items'][0]['statistics']['viewCount'])\n",
    "number_of_videos = int(channel_response['items'][0]['statistics']['videoCount'])\n",
    "uploads_id = channel_response['items'][0]['contentDetails']['relatedPlaylists']['uploads']\n",
    "\n",
    "print('Here are some statistics about the channel, MrBeast Gaming:')\n",
    "print(\"Number of subscribers:\", \"{:,}\".format(number_of_subscribers))\n",
    "print(\"Number of views:\", \"{:,}\".format(number_of_views))\n",
    "print(\"Number of videos:\", \"{:,}\".format(number_of_videos))\n",
    "print(\"Upload ID:\", uploads_id)"
   ]
  },
  {
   "attachments": {},
   "cell_type": "markdown",
   "metadata": {},
   "source": [
    "##### Accessing the Uploaded Videos"
   ]
  },
  {
   "cell_type": "code",
   "execution_count": 41,
   "metadata": {},
   "outputs": [
    {
     "name": "stdout",
     "output_type": "stream",
     "text": [
      "We have successfully accessed 138 videos from the channel.\n",
      "There are actually 138 videos on the channel.\n",
      "This is a difference of 0 videos.\n"
     ]
    }
   ],
   "source": [
    "request = youtube.playlistItems().list(\n",
    "        part=\"snippet,contentDetails\",\n",
    "        playlistId=\"UUIPPMRA040LQr5QPyJEbmXA\"\n",
    "    )\n",
    "videos_response = request.execute()\n",
    "\n",
    "videos = []\n",
    "for item in videos_response['items']:\n",
    "        videos.append(item['contentDetails']['videoId'])\n",
    "\n",
    "next_page_token = videos_response.get('nextPageToken')\n",
    "while next_page_token is not None:\n",
    "    request = youtube.playlistItems().list(\n",
    "                part='contentDetails',\n",
    "                playlistId = \"UUIPPMRA040LQr5QPyJEbmXA\",\n",
    "                maxResults = 50,\n",
    "                pageToken = next_page_token)\n",
    "    videos_response = request.execute()\n",
    "\n",
    "    for item in videos_response['items']:\n",
    "        videos.append(item['contentDetails']['videoId'])\n",
    "\n",
    "    next_page_token = videos_response.get('nextPageToken')\n",
    "print('We have successfully accessed', len(videos), 'videos from the channel.')\n",
    "print(\"There are actually\", number_of_videos, \"videos on the channel.\")\n",
    "print('This is a difference of', number_of_videos - len(videos), 'videos.')"
   ]
  },
  {
   "attachments": {},
   "cell_type": "markdown",
   "metadata": {},
   "source": [
    "##### Turning Video Information from a .JSON into a DataFrame"
   ]
  },
  {
   "cell_type": "code",
   "execution_count": 42,
   "metadata": {},
   "outputs": [],
   "source": [
    "temp = []\n",
    "for i in range(len(videos)):\n",
    "    # getting the information about the ith video\n",
    "    video_stats_request = youtube.videos().list(\n",
    "            part=\"snippet,contentDetails,statistics\",\n",
    "            id = videos[i]\n",
    "        )\n",
    "    video_stats_request = video_stats_request.execute()\n",
    "    # getting the video type\n",
    "    video_type = video_stats_request['items'][0]['kind'].split('#')[1]\n",
    "    # getting the title\n",
    "    title = video_stats_request['items'][0]['snippet']['title']\n",
    "    # getting the publish date\n",
    "    publish_date = video_stats_request['items'][0]['snippet']['publishedAt']\n",
    "    # getting the number of views\n",
    "    views = int(video_stats_request['items'][0]['statistics']['viewCount'])\n",
    "    # getting the number of likes\n",
    "    likes = int(video_stats_request['items'][0]['statistics']['likeCount'])\n",
    "    # getting the number of comments\n",
    "    comments = int(video_stats_request['items'][0]['statistics']['commentCount'])\n",
    "    # getting the duration\n",
    "    duration = video_stats_request['items'][0]['contentDetails']['duration']\n",
    "\n",
    "    temp.append([title, publish_date, views, likes, comments, duration, video_type])\n",
    "video_statistics = pd.DataFrame(temp, columns = ['Title', 'Publish Date', 'Views', 'Likes', 'Comments', 'Duration', 'Video Type'])"
   ]
  },
  {
   "cell_type": "code",
   "execution_count": 43,
   "metadata": {},
   "outputs": [
    {
     "data": {
      "text/html": [
       "<div>\n",
       "<style scoped>\n",
       "    .dataframe tbody tr th:only-of-type {\n",
       "        vertical-align: middle;\n",
       "    }\n",
       "\n",
       "    .dataframe tbody tr th {\n",
       "        vertical-align: top;\n",
       "    }\n",
       "\n",
       "    .dataframe thead th {\n",
       "        text-align: right;\n",
       "    }\n",
       "</style>\n",
       "<table border=\"1\" class=\"dataframe\">\n",
       "  <thead>\n",
       "    <tr style=\"text-align: right;\">\n",
       "      <th></th>\n",
       "      <th>Title</th>\n",
       "      <th>Publish Date</th>\n",
       "      <th>Views</th>\n",
       "      <th>Likes</th>\n",
       "      <th>Comments</th>\n",
       "      <th>Duration</th>\n",
       "      <th>Video Type</th>\n",
       "    </tr>\n",
       "  </thead>\n",
       "  <tbody>\n",
       "    <tr>\n",
       "      <th>0</th>\n",
       "      <td>If You Build It, I'll Pay For It!</td>\n",
       "      <td>2022-12-31T20:00:04Z</td>\n",
       "      <td>16945756</td>\n",
       "      <td>610733</td>\n",
       "      <td>20081</td>\n",
       "      <td>PT11M42S</td>\n",
       "      <td>video</td>\n",
       "    </tr>\n",
       "    <tr>\n",
       "      <th>1</th>\n",
       "      <td>World's Hardest Challenge!</td>\n",
       "      <td>2022-12-16T22:18:00Z</td>\n",
       "      <td>17730508</td>\n",
       "      <td>540855</td>\n",
       "      <td>22964</td>\n",
       "      <td>PT14M30S</td>\n",
       "      <td>video</td>\n",
       "    </tr>\n",
       "    <tr>\n",
       "      <th>2</th>\n",
       "      <td>100 Youtuber Minecraft Battle Royale!</td>\n",
       "      <td>2022-10-28T21:00:09Z</td>\n",
       "      <td>17674328</td>\n",
       "      <td>992919</td>\n",
       "      <td>45801</td>\n",
       "      <td>PT16M3S</td>\n",
       "      <td>video</td>\n",
       "    </tr>\n",
       "    <tr>\n",
       "      <th>3</th>\n",
       "      <td>Red vs Blue For $1,000,000</td>\n",
       "      <td>2022-10-12T20:00:12Z</td>\n",
       "      <td>10169817</td>\n",
       "      <td>395452</td>\n",
       "      <td>11497</td>\n",
       "      <td>PT10M43S</td>\n",
       "      <td>video</td>\n",
       "    </tr>\n",
       "    <tr>\n",
       "      <th>4</th>\n",
       "      <td>Minecraft with Ultra Realistic Graphics!</td>\n",
       "      <td>2022-09-16T19:00:37Z</td>\n",
       "      <td>15332613</td>\n",
       "      <td>496234</td>\n",
       "      <td>13029</td>\n",
       "      <td>PT8M47S</td>\n",
       "      <td>video</td>\n",
       "    </tr>\n",
       "  </tbody>\n",
       "</table>\n",
       "</div>"
      ],
      "text/plain": [
       "                                      Title          Publish Date     Views  \\\n",
       "0         If You Build It, I'll Pay For It!  2022-12-31T20:00:04Z  16945756   \n",
       "1                World's Hardest Challenge!  2022-12-16T22:18:00Z  17730508   \n",
       "2     100 Youtuber Minecraft Battle Royale!  2022-10-28T21:00:09Z  17674328   \n",
       "3                Red vs Blue For $1,000,000  2022-10-12T20:00:12Z  10169817   \n",
       "4  Minecraft with Ultra Realistic Graphics!  2022-09-16T19:00:37Z  15332613   \n",
       "\n",
       "    Likes  Comments  Duration Video Type  \n",
       "0  610733     20081  PT11M42S      video  \n",
       "1  540855     22964  PT14M30S      video  \n",
       "2  992919     45801   PT16M3S      video  \n",
       "3  395452     11497  PT10M43S      video  \n",
       "4  496234     13029   PT8M47S      video  "
      ]
     },
     "execution_count": 43,
     "metadata": {},
     "output_type": "execute_result"
    }
   ],
   "source": [
    "video_statistics.head()\n"
   ]
  },
  {
   "attachments": {},
   "cell_type": "markdown",
   "metadata": {},
   "source": [
    "### Data Cleaning"
   ]
  },
  {
   "cell_type": "code",
   "execution_count": 44,
   "metadata": {},
   "outputs": [
    {
     "name": "stdout",
     "output_type": "stream",
     "text": [
      "<class 'pandas.core.frame.DataFrame'>\n",
      "RangeIndex: 138 entries, 0 to 137\n",
      "Data columns (total 7 columns):\n",
      " #   Column        Non-Null Count  Dtype \n",
      "---  ------        --------------  ----- \n",
      " 0   Title         138 non-null    object\n",
      " 1   Publish Date  138 non-null    object\n",
      " 2   Views         138 non-null    int64 \n",
      " 3   Likes         138 non-null    int64 \n",
      " 4   Comments      138 non-null    int64 \n",
      " 5   Duration      138 non-null    object\n",
      " 6   Video Type    138 non-null    object\n",
      "dtypes: int64(3), object(4)\n",
      "memory usage: 7.7+ KB\n"
     ]
    }
   ],
   "source": [
    "video_statistics.info()"
   ]
  },
  {
   "attachments": {},
   "cell_type": "markdown",
   "metadata": {},
   "source": [
    "The above code...\n",
    "- Gets the data types of each of the variables\n",
    "- Shows us that there are no missing values, which makes our lives much easier.\n",
    "- Show that 'Publish Date' is not in a date time format"
   ]
  },
  {
   "cell_type": "code",
   "execution_count": 45,
   "metadata": {},
   "outputs": [
    {
     "data": {
      "text/plain": [
       "video    138\n",
       "Name: Video Type, dtype: int64"
      ]
     },
     "execution_count": 45,
     "metadata": {},
     "output_type": "execute_result"
    }
   ],
   "source": [
    "video_statistics['Video Type'].value_counts()"
   ]
  },
  {
   "cell_type": "code",
   "execution_count": 46,
   "metadata": {},
   "outputs": [],
   "source": [
    "del video_statistics['Video Type']"
   ]
  },
  {
   "attachments": {},
   "cell_type": "markdown",
   "metadata": {},
   "source": [
    "All video are a video, none appear to be labeled specifically as shorts. Since all of the values are the same I decided to delete is since it doesn't give us much information."
   ]
  },
  {
   "cell_type": "code",
   "execution_count": 47,
   "metadata": {},
   "outputs": [
    {
     "data": {
      "text/html": [
       "<div>\n",
       "<style scoped>\n",
       "    .dataframe tbody tr th:only-of-type {\n",
       "        vertical-align: middle;\n",
       "    }\n",
       "\n",
       "    .dataframe tbody tr th {\n",
       "        vertical-align: top;\n",
       "    }\n",
       "\n",
       "    .dataframe thead th {\n",
       "        text-align: right;\n",
       "    }\n",
       "</style>\n",
       "<table border=\"1\" class=\"dataframe\">\n",
       "  <thead>\n",
       "    <tr style=\"text-align: right;\">\n",
       "      <th></th>\n",
       "      <th>Title</th>\n",
       "      <th>Publish Date</th>\n",
       "      <th>Views</th>\n",
       "      <th>Likes</th>\n",
       "      <th>Comments</th>\n",
       "      <th>Duration</th>\n",
       "    </tr>\n",
       "  </thead>\n",
       "  <tbody>\n",
       "  </tbody>\n",
       "</table>\n",
       "</div>"
      ],
      "text/plain": [
       "Empty DataFrame\n",
       "Columns: [Title, Publish Date, Views, Likes, Comments, Duration]\n",
       "Index: []"
      ]
     },
     "execution_count": 47,
     "metadata": {},
     "output_type": "execute_result"
    }
   ],
   "source": [
    "# duration includes H\n",
    "video_statistics[video_statistics['Duration'].str.contains('H')]"
   ]
  },
  {
   "attachments": {},
   "cell_type": "markdown",
   "metadata": {},
   "source": [
    "No videos are an hour long or greater."
   ]
  },
  {
   "attachments": {},
   "cell_type": "markdown",
   "metadata": {},
   "source": [
    "The function below converts the data from the format it is in directly from the YouTube API (which is not usable unfortunately) into seconds (very usable)."
   ]
  },
  {
   "cell_type": "code",
   "execution_count": 48,
   "metadata": {},
   "outputs": [],
   "source": [
    "# converting duration to seconds\n",
    "def convert_to_seconds(duration):\n",
    "    # sum of the total duration of the video in seconds\n",
    "    duration_seconds = 0\n",
    "\n",
    "    # remove the string 'PT' (which is present in every observation)\n",
    "    duration = duration[2:]\n",
    "\n",
    "    # If the H is present, which indicates the video is equal to or longer than an hour, add the amount of seconds to the duration_seconds variable\n",
    "    duration = duration.split('H')\n",
    "    if len(duration) == 1:\n",
    "        duration = duration[0]\n",
    "\n",
    "    elif len(duration) == 2:\n",
    "        duration_seconds += int(duration[0]) * 3600\n",
    "        duration = duration[1]\n",
    "\n",
    "    # If the M is present, which indicates the video is equal to or longer than an minute, add the amount of seconds to the duration_seconds variable \n",
    "    duration = duration.split('M')\n",
    "    if len(duration) == 1:\n",
    "        duration = duration[0]\n",
    "\n",
    "    elif len(duration) == 2:\n",
    "        duration_seconds += int(duration[0]) * 60\n",
    "        duration = duration[1]\n",
    "\n",
    "    # add the number of seconds to the video (if present)\n",
    "    if len(duration) > 0:\n",
    "        duration_seconds += int(duration.split('S')[0])\n",
    "\n",
    "    return duration_seconds"
   ]
  },
  {
   "cell_type": "code",
   "execution_count": 49,
   "metadata": {},
   "outputs": [],
   "source": [
    "# apply the function to the duration column\n",
    "video_statistics['Duration in Seconds'] = video_statistics['Duration'].apply(convert_to_seconds)"
   ]
  },
  {
   "cell_type": "code",
   "execution_count": 50,
   "metadata": {},
   "outputs": [],
   "source": [
    "# getting duration in minutes\n",
    "video_statistics['Duration in Minutes'] = round(video_statistics['Duration in Seconds'] / 60,3)"
   ]
  },
  {
   "cell_type": "code",
   "execution_count": 51,
   "metadata": {},
   "outputs": [],
   "source": [
    "# deleting the original duration column\n",
    "del video_statistics['Duration']"
   ]
  },
  {
   "attachments": {},
   "cell_type": "markdown",
   "metadata": {},
   "source": [
    "##### Converting the Publish Date to a Date Format and Determining the Days Since Published"
   ]
  },
  {
   "attachments": {},
   "cell_type": "markdown",
   "metadata": {},
   "source": [
    "Converting to a DateTime format is important so we can actually work with the date."
   ]
  },
  {
   "cell_type": "code",
   "execution_count": 52,
   "metadata": {},
   "outputs": [
    {
     "data": {
      "text/plain": [
       "0    2022-12-31T20:00:04Z\n",
       "1    2022-12-16T22:18:00Z\n",
       "2    2022-10-28T21:00:09Z\n",
       "3    2022-10-12T20:00:12Z\n",
       "4    2022-09-16T19:00:37Z\n",
       "Name: Publish Date, dtype: object"
      ]
     },
     "execution_count": 52,
     "metadata": {},
     "output_type": "execute_result"
    }
   ],
   "source": [
    "video_statistics['Publish Date'].head()"
   ]
  },
  {
   "attachments": {},
   "cell_type": "markdown",
   "metadata": {},
   "source": [
    "Above we can see that the code is not in DateTime format (dtype: object)."
   ]
  },
  {
   "cell_type": "code",
   "execution_count": 53,
   "metadata": {},
   "outputs": [],
   "source": [
    "# converting the publish date to datetime\n",
    "video_statistics['Publish Date'] = pd.to_datetime(video_statistics['Publish Date'])"
   ]
  },
  {
   "cell_type": "code",
   "execution_count": 54,
   "metadata": {},
   "outputs": [
    {
     "data": {
      "text/plain": [
       "0   2022-12-31 20:00:04+00:00\n",
       "1   2022-12-16 22:18:00+00:00\n",
       "2   2022-10-28 21:00:09+00:00\n",
       "3   2022-10-12 20:00:12+00:00\n",
       "4   2022-09-16 19:00:37+00:00\n",
       "Name: Publish Date, dtype: datetime64[ns, UTC]"
      ]
     },
     "execution_count": 54,
     "metadata": {},
     "output_type": "execute_result"
    }
   ],
   "source": [
    "video_statistics['Publish Date'].head()"
   ]
  },
  {
   "attachments": {},
   "cell_type": "markdown",
   "metadata": {},
   "source": [
    "Now we have dtype: datetime64."
   ]
  },
  {
   "cell_type": "code",
   "execution_count": 55,
   "metadata": {},
   "outputs": [],
   "source": [
    "# converting the time zone from UTC to EST\n",
    "video_statistics['Publish Date'] = video_statistics['Publish Date'].dt.tz_convert('EST')"
   ]
  },
  {
   "cell_type": "code",
   "execution_count": 56,
   "metadata": {},
   "outputs": [
    {
     "data": {
      "text/plain": [
       "0   2022-12-31 15:00:04-05:00\n",
       "1   2022-12-16 17:18:00-05:00\n",
       "2   2022-10-28 16:00:09-05:00\n",
       "3   2022-10-12 15:00:12-05:00\n",
       "4   2022-09-16 14:00:37-05:00\n",
       "Name: Publish Date, dtype: datetime64[ns, EST]"
      ]
     },
     "execution_count": 56,
     "metadata": {},
     "output_type": "execute_result"
    }
   ],
   "source": [
    "video_statistics['Publish Date'].head()"
   ]
  },
  {
   "attachments": {},
   "cell_type": "markdown",
   "metadata": {},
   "source": [
    "The code below removes the time zone from the datetime observation."
   ]
  },
  {
   "cell_type": "code",
   "execution_count": 57,
   "metadata": {},
   "outputs": [],
   "source": [
    "video_statistics['Publish Date'] = video_statistics['Publish Date'].dt.tz_localize(None)"
   ]
  },
  {
   "cell_type": "code",
   "execution_count": 58,
   "metadata": {},
   "outputs": [
    {
     "data": {
      "text/plain": [
       "133   2020-05-22 15:01:29\n",
       "134   2020-05-20 15:01:40\n",
       "135   2020-05-16 14:35:31\n",
       "136   2020-05-14 15:16:51\n",
       "137   2020-05-12 15:00:11\n",
       "Name: Publish Date, dtype: datetime64[ns]"
      ]
     },
     "execution_count": 58,
     "metadata": {},
     "output_type": "execute_result"
    }
   ],
   "source": [
    "video_statistics['Publish Date'].tail()"
   ]
  },
  {
   "cell_type": "code",
   "execution_count": 59,
   "metadata": {},
   "outputs": [],
   "source": [
    "# getting the difference (in days) between the current time and the publish date from the column Publish Date\n",
    "video_statistics['Days Since Published'] = (datetime.datetime.now() - video_statistics['Publish Date']).dt.days"
   ]
  },
  {
   "cell_type": "code",
   "execution_count": 60,
   "metadata": {},
   "outputs": [
    {
     "data": {
      "text/plain": [
       "0       16\n",
       "1       31\n",
       "2       80\n",
       "3       96\n",
       "4      122\n",
       "      ... \n",
       "133    969\n",
       "134    971\n",
       "135    975\n",
       "136    977\n",
       "137    979\n",
       "Name: Days Since Published, Length: 138, dtype: int64"
      ]
     },
     "execution_count": 60,
     "metadata": {},
     "output_type": "execute_result"
    }
   ],
   "source": [
    "video_statistics['Days Since Published']"
   ]
  },
  {
   "attachments": {},
   "cell_type": "markdown",
   "metadata": {},
   "source": [
    "The below code shows us the comment to view ratio and the like to view ratio."
   ]
  },
  {
   "cell_type": "code",
   "execution_count": 61,
   "metadata": {},
   "outputs": [],
   "source": [
    "# comment to views ratio\n",
    "video_statistics['Comment to View Ratio'] = round(video_statistics['Comments'] / video_statistics['Views'],5)\n",
    "# like to view ratio\n",
    "video_statistics['Like to View Ratio'] = round(video_statistics['Likes'] / video_statistics['Views'],5)"
   ]
  },
  {
   "cell_type": "code",
   "execution_count": 62,
   "metadata": {},
   "outputs": [
    {
     "data": {
      "text/html": [
       "<div>\n",
       "<style scoped>\n",
       "    .dataframe tbody tr th:only-of-type {\n",
       "        vertical-align: middle;\n",
       "    }\n",
       "\n",
       "    .dataframe tbody tr th {\n",
       "        vertical-align: top;\n",
       "    }\n",
       "\n",
       "    .dataframe thead th {\n",
       "        text-align: right;\n",
       "    }\n",
       "</style>\n",
       "<table border=\"1\" class=\"dataframe\">\n",
       "  <thead>\n",
       "    <tr style=\"text-align: right;\">\n",
       "      <th></th>\n",
       "      <th>Title</th>\n",
       "      <th>Publish Date</th>\n",
       "      <th>Views</th>\n",
       "      <th>Likes</th>\n",
       "      <th>Comments</th>\n",
       "      <th>Duration in Seconds</th>\n",
       "      <th>Duration in Minutes</th>\n",
       "      <th>Days Since Published</th>\n",
       "      <th>Comment to View Ratio</th>\n",
       "      <th>Like to View Ratio</th>\n",
       "    </tr>\n",
       "  </thead>\n",
       "  <tbody>\n",
       "    <tr>\n",
       "      <th>0</th>\n",
       "      <td>If You Build It, I'll Pay For It!</td>\n",
       "      <td>2022-12-31 15:00:04</td>\n",
       "      <td>16945756</td>\n",
       "      <td>610733</td>\n",
       "      <td>20081</td>\n",
       "      <td>702</td>\n",
       "      <td>11.700</td>\n",
       "      <td>16</td>\n",
       "      <td>0.00119</td>\n",
       "      <td>0.03604</td>\n",
       "    </tr>\n",
       "    <tr>\n",
       "      <th>1</th>\n",
       "      <td>World's Hardest Challenge!</td>\n",
       "      <td>2022-12-16 17:18:00</td>\n",
       "      <td>17730508</td>\n",
       "      <td>540855</td>\n",
       "      <td>22964</td>\n",
       "      <td>870</td>\n",
       "      <td>14.500</td>\n",
       "      <td>31</td>\n",
       "      <td>0.00130</td>\n",
       "      <td>0.03050</td>\n",
       "    </tr>\n",
       "    <tr>\n",
       "      <th>2</th>\n",
       "      <td>100 Youtuber Minecraft Battle Royale!</td>\n",
       "      <td>2022-10-28 16:00:09</td>\n",
       "      <td>17674328</td>\n",
       "      <td>992919</td>\n",
       "      <td>45801</td>\n",
       "      <td>963</td>\n",
       "      <td>16.050</td>\n",
       "      <td>80</td>\n",
       "      <td>0.00259</td>\n",
       "      <td>0.05618</td>\n",
       "    </tr>\n",
       "    <tr>\n",
       "      <th>3</th>\n",
       "      <td>Red vs Blue For $1,000,000</td>\n",
       "      <td>2022-10-12 15:00:12</td>\n",
       "      <td>10169817</td>\n",
       "      <td>395452</td>\n",
       "      <td>11497</td>\n",
       "      <td>643</td>\n",
       "      <td>10.717</td>\n",
       "      <td>96</td>\n",
       "      <td>0.00113</td>\n",
       "      <td>0.03888</td>\n",
       "    </tr>\n",
       "    <tr>\n",
       "      <th>4</th>\n",
       "      <td>Minecraft with Ultra Realistic Graphics!</td>\n",
       "      <td>2022-09-16 14:00:37</td>\n",
       "      <td>15332613</td>\n",
       "      <td>496234</td>\n",
       "      <td>13029</td>\n",
       "      <td>527</td>\n",
       "      <td>8.783</td>\n",
       "      <td>122</td>\n",
       "      <td>0.00085</td>\n",
       "      <td>0.03236</td>\n",
       "    </tr>\n",
       "  </tbody>\n",
       "</table>\n",
       "</div>"
      ],
      "text/plain": [
       "                                      Title        Publish Date     Views  \\\n",
       "0         If You Build It, I'll Pay For It! 2022-12-31 15:00:04  16945756   \n",
       "1                World's Hardest Challenge! 2022-12-16 17:18:00  17730508   \n",
       "2     100 Youtuber Minecraft Battle Royale! 2022-10-28 16:00:09  17674328   \n",
       "3                Red vs Blue For $1,000,000 2022-10-12 15:00:12  10169817   \n",
       "4  Minecraft with Ultra Realistic Graphics! 2022-09-16 14:00:37  15332613   \n",
       "\n",
       "    Likes  Comments  Duration in Seconds  Duration in Minutes  \\\n",
       "0  610733     20081                  702               11.700   \n",
       "1  540855     22964                  870               14.500   \n",
       "2  992919     45801                  963               16.050   \n",
       "3  395452     11497                  643               10.717   \n",
       "4  496234     13029                  527                8.783   \n",
       "\n",
       "   Days Since Published  Comment to View Ratio  Like to View Ratio  \n",
       "0                    16                0.00119             0.03604  \n",
       "1                    31                0.00130             0.03050  \n",
       "2                    80                0.00259             0.05618  \n",
       "3                    96                0.00113             0.03888  \n",
       "4                   122                0.00085             0.03236  "
      ]
     },
     "execution_count": 62,
     "metadata": {},
     "output_type": "execute_result"
    }
   ],
   "source": [
    "video_statistics.head()"
   ]
  },
  {
   "cell_type": "code",
   "execution_count": 63,
   "metadata": {},
   "outputs": [],
   "source": [
    "# new column which is the number of views per day\n",
    "video_statistics['Views per Day'] = round(video_statistics['Views'] / video_statistics['Days Since Published'],1)"
   ]
  },
  {
   "cell_type": "code",
   "execution_count": 64,
   "metadata": {},
   "outputs": [],
   "source": [
    "# renaming publish date to publish time (EST)\n",
    "video_statistics.rename(columns = {'Publish Date':'Publish Time (EST)'}, inplace = True)\n"
   ]
  },
  {
   "cell_type": "code",
   "execution_count": 65,
   "metadata": {},
   "outputs": [],
   "source": [
    "# taking pubslish time (EST), taking only the date, and storing it in a new column Publish Date\n",
    "video_statistics['Publish Date'] = video_statistics['Publish Time (EST)'].dt.date"
   ]
  },
  {
   "cell_type": "code",
   "execution_count": 66,
   "metadata": {},
   "outputs": [],
   "source": [
    "# adding a new column Title and Day Published which is the title and the publish date\n",
    "video_statistics['Title and Day Published'] = video_statistics['Title'] + ' - (' + video_statistics['Publish Date'].astype(str) + ')'"
   ]
  },
  {
   "cell_type": "code",
   "execution_count": 67,
   "metadata": {},
   "outputs": [],
   "source": [
    "# switching the order of the columns\n",
    "video_statistics = video_statistics[['Title and Day Published', 'Title', 'Publish Date', 'Publish Time (EST)', 'Days Since Published', 'Views', 'Views per Day', 'Likes', 'Like to View Ratio', 'Comments', 'Comment to View Ratio', 'Duration in Seconds', 'Duration in Minutes']]"
   ]
  },
  {
   "cell_type": "code",
   "execution_count": 68,
   "metadata": {},
   "outputs": [
    {
     "data": {
      "text/html": [
       "<div>\n",
       "<style scoped>\n",
       "    .dataframe tbody tr th:only-of-type {\n",
       "        vertical-align: middle;\n",
       "    }\n",
       "\n",
       "    .dataframe tbody tr th {\n",
       "        vertical-align: top;\n",
       "    }\n",
       "\n",
       "    .dataframe thead th {\n",
       "        text-align: right;\n",
       "    }\n",
       "</style>\n",
       "<table border=\"1\" class=\"dataframe\">\n",
       "  <thead>\n",
       "    <tr style=\"text-align: right;\">\n",
       "      <th></th>\n",
       "      <th>Title and Day Published</th>\n",
       "      <th>Title</th>\n",
       "      <th>Publish Date</th>\n",
       "      <th>Publish Time (EST)</th>\n",
       "      <th>Days Since Published</th>\n",
       "      <th>Views</th>\n",
       "      <th>Views per Day</th>\n",
       "      <th>Likes</th>\n",
       "      <th>Like to View Ratio</th>\n",
       "      <th>Comments</th>\n",
       "      <th>Comment to View Ratio</th>\n",
       "      <th>Duration in Seconds</th>\n",
       "      <th>Duration in Minutes</th>\n",
       "    </tr>\n",
       "  </thead>\n",
       "  <tbody>\n",
       "    <tr>\n",
       "      <th>0</th>\n",
       "      <td>If You Build It, I'll Pay For It! - (2022-12-31)</td>\n",
       "      <td>If You Build It, I'll Pay For It!</td>\n",
       "      <td>2022-12-31</td>\n",
       "      <td>2022-12-31 15:00:04</td>\n",
       "      <td>16</td>\n",
       "      <td>16945756</td>\n",
       "      <td>1059109.8</td>\n",
       "      <td>610733</td>\n",
       "      <td>0.03604</td>\n",
       "      <td>20081</td>\n",
       "      <td>0.00119</td>\n",
       "      <td>702</td>\n",
       "      <td>11.700</td>\n",
       "    </tr>\n",
       "    <tr>\n",
       "      <th>1</th>\n",
       "      <td>World's Hardest Challenge! - (2022-12-16)</td>\n",
       "      <td>World's Hardest Challenge!</td>\n",
       "      <td>2022-12-16</td>\n",
       "      <td>2022-12-16 17:18:00</td>\n",
       "      <td>31</td>\n",
       "      <td>17730508</td>\n",
       "      <td>571951.9</td>\n",
       "      <td>540855</td>\n",
       "      <td>0.03050</td>\n",
       "      <td>22964</td>\n",
       "      <td>0.00130</td>\n",
       "      <td>870</td>\n",
       "      <td>14.500</td>\n",
       "    </tr>\n",
       "    <tr>\n",
       "      <th>2</th>\n",
       "      <td>100 Youtuber Minecraft Battle Royale! - (2022-...</td>\n",
       "      <td>100 Youtuber Minecraft Battle Royale!</td>\n",
       "      <td>2022-10-28</td>\n",
       "      <td>2022-10-28 16:00:09</td>\n",
       "      <td>80</td>\n",
       "      <td>17674328</td>\n",
       "      <td>220929.1</td>\n",
       "      <td>992919</td>\n",
       "      <td>0.05618</td>\n",
       "      <td>45801</td>\n",
       "      <td>0.00259</td>\n",
       "      <td>963</td>\n",
       "      <td>16.050</td>\n",
       "    </tr>\n",
       "    <tr>\n",
       "      <th>3</th>\n",
       "      <td>Red vs Blue For $1,000,000 - (2022-10-12)</td>\n",
       "      <td>Red vs Blue For $1,000,000</td>\n",
       "      <td>2022-10-12</td>\n",
       "      <td>2022-10-12 15:00:12</td>\n",
       "      <td>96</td>\n",
       "      <td>10169817</td>\n",
       "      <td>105935.6</td>\n",
       "      <td>395452</td>\n",
       "      <td>0.03888</td>\n",
       "      <td>11497</td>\n",
       "      <td>0.00113</td>\n",
       "      <td>643</td>\n",
       "      <td>10.717</td>\n",
       "    </tr>\n",
       "    <tr>\n",
       "      <th>4</th>\n",
       "      <td>Minecraft with Ultra Realistic Graphics! - (20...</td>\n",
       "      <td>Minecraft with Ultra Realistic Graphics!</td>\n",
       "      <td>2022-09-16</td>\n",
       "      <td>2022-09-16 14:00:37</td>\n",
       "      <td>122</td>\n",
       "      <td>15332613</td>\n",
       "      <td>125677.2</td>\n",
       "      <td>496234</td>\n",
       "      <td>0.03236</td>\n",
       "      <td>13029</td>\n",
       "      <td>0.00085</td>\n",
       "      <td>527</td>\n",
       "      <td>8.783</td>\n",
       "    </tr>\n",
       "  </tbody>\n",
       "</table>\n",
       "</div>"
      ],
      "text/plain": [
       "                             Title and Day Published  \\\n",
       "0   If You Build It, I'll Pay For It! - (2022-12-31)   \n",
       "1          World's Hardest Challenge! - (2022-12-16)   \n",
       "2  100 Youtuber Minecraft Battle Royale! - (2022-...   \n",
       "3          Red vs Blue For $1,000,000 - (2022-10-12)   \n",
       "4  Minecraft with Ultra Realistic Graphics! - (20...   \n",
       "\n",
       "                                      Title Publish Date  Publish Time (EST)  \\\n",
       "0         If You Build It, I'll Pay For It!   2022-12-31 2022-12-31 15:00:04   \n",
       "1                World's Hardest Challenge!   2022-12-16 2022-12-16 17:18:00   \n",
       "2     100 Youtuber Minecraft Battle Royale!   2022-10-28 2022-10-28 16:00:09   \n",
       "3                Red vs Blue For $1,000,000   2022-10-12 2022-10-12 15:00:12   \n",
       "4  Minecraft with Ultra Realistic Graphics!   2022-09-16 2022-09-16 14:00:37   \n",
       "\n",
       "   Days Since Published     Views  Views per Day   Likes  Like to View Ratio  \\\n",
       "0                    16  16945756      1059109.8  610733             0.03604   \n",
       "1                    31  17730508       571951.9  540855             0.03050   \n",
       "2                    80  17674328       220929.1  992919             0.05618   \n",
       "3                    96  10169817       105935.6  395452             0.03888   \n",
       "4                   122  15332613       125677.2  496234             0.03236   \n",
       "\n",
       "   Comments  Comment to View Ratio  Duration in Seconds  Duration in Minutes  \n",
       "0     20081                0.00119                  702               11.700  \n",
       "1     22964                0.00130                  870               14.500  \n",
       "2     45801                0.00259                  963               16.050  \n",
       "3     11497                0.00113                  643               10.717  \n",
       "4     13029                0.00085                  527                8.783  "
      ]
     },
     "execution_count": 68,
     "metadata": {},
     "output_type": "execute_result"
    }
   ],
   "source": [
    "video_statistics.head()"
   ]
  },
  {
   "attachments": {},
   "cell_type": "markdown",
   "metadata": {},
   "source": [
    "### Exporting the Data to a Daily CSV File & Calculating Daily Differences"
   ]
  },
  {
   "cell_type": "code",
   "execution_count": 69,
   "metadata": {},
   "outputs": [
    {
     "name": "stdout",
     "output_type": "stream",
     "text": [
      "2023-01-16\n",
      "2023-01-15\n"
     ]
    }
   ],
   "source": [
    "from datetime import datetime, timedelta\n",
    "# Get current date\n",
    "now = datetime.now()\n",
    "\n",
    "# Get date of 24 hours ago\n",
    "yesterday = now - timedelta(days=1)\n",
    "\n",
    "# Format dates as strings\n",
    "now_str = now.strftime(\"%Y-%m-%d\")\n",
    "yesterday_str = yesterday.strftime(\"%Y-%m-%d\")\n",
    "print(now_str)\n",
    "print(yesterday_str)"
   ]
  },
  {
   "cell_type": "code",
   "execution_count": 70,
   "metadata": {},
   "outputs": [],
   "source": [
    "# write the current data to a csv file\n",
    "video_statistics.to_csv(\"data/MrBeastGaming_\"+f\"{now_str}.csv\", index=False)\n",
    "\n",
    "# pull in yesterday's data (24 hours ago)\n",
    "yesterday_video_statistics = pd.read_csv(\"data/MrBeastGaming_\"+f\"{yesterday_str}.csv\")"
   ]
  },
  {
   "cell_type": "code",
   "execution_count": 71,
   "metadata": {},
   "outputs": [],
   "source": [
    "# reusable function that does what is described above\n",
    "def get_difference_csv(yesterday_video_statistics, video_statistics, difference_csv_name = 'data/DailyDifference.csv'):\n",
    "    # calculating the difference\n",
    "    # Title and Day Published (Constant)\n",
    "    # Days Since Published, Views, Likes Comments (Different)\n",
    "    difference = video_statistics.copy()\n",
    "    difference['Daily Views'] = video_statistics['Views'] - yesterday_video_statistics['Views']\n",
    "    difference['Daily Likes'] = video_statistics['Likes'] - yesterday_video_statistics['Likes']\n",
    "    difference['Daily Comments'] = video_statistics['Comments'] - yesterday_video_statistics['Comments']\n",
    "    difference['Date'] = now_str\n",
    "\n",
    "     # read in the difference CSV\n",
    "    difference_csv = pd.read_csv(difference_csv_name)\n",
    "\n",
    "    # subset with only these columns: Days Since Published, Views, Likes Comments\n",
    "    difference = difference[['Date','Title and Day Published','Days Since Published', 'Daily Views', 'Daily Likes', 'Daily Comments']]\n",
    "    #difference_csv = difference_csv[['Date','Title and Day Published','Days Since Published', 'Views', 'Likes', 'Comments']]\n",
    "    \n",
    "    # rename the columns to Daily Views, Daily Likes, Daily Comments\n",
    "    difference_csv.rename(columns = {'Views':'Daily Views', 'Likes':'Daily Likes', 'Comments':'Daily Comments'}, inplace = True)\n",
    "    # adding a new line to the difference CSV\n",
    "    difference_csv = difference_csv.append(difference, ignore_index=True)\n",
    "\n",
    "    # exporting the difference CSV\n",
    "    difference_csv.to_csv(difference_csv_name, index=False)\n",
    "\n",
    "    print('Success.')\n",
    "\n",
    "    return difference_csv    "
   ]
  },
  {
   "cell_type": "code",
   "execution_count": 72,
   "metadata": {},
   "outputs": [
    {
     "name": "stdout",
     "output_type": "stream",
     "text": [
      "Success.\n"
     ]
    },
    {
     "name": "stderr",
     "output_type": "stream",
     "text": [
      "/var/folders/x3/c5r72npn637bt_0n3yw_rmgw0000gn/T/ipykernel_57199/2874979288.py:22: FutureWarning: The frame.append method is deprecated and will be removed from pandas in a future version. Use pandas.concat instead.\n",
      "  difference_csv = difference_csv.append(difference, ignore_index=True)\n"
     ]
    },
    {
     "data": {
      "text/html": [
       "<div>\n",
       "<style scoped>\n",
       "    .dataframe tbody tr th:only-of-type {\n",
       "        vertical-align: middle;\n",
       "    }\n",
       "\n",
       "    .dataframe tbody tr th {\n",
       "        vertical-align: top;\n",
       "    }\n",
       "\n",
       "    .dataframe thead th {\n",
       "        text-align: right;\n",
       "    }\n",
       "</style>\n",
       "<table border=\"1\" class=\"dataframe\">\n",
       "  <thead>\n",
       "    <tr style=\"text-align: right;\">\n",
       "      <th></th>\n",
       "      <th>Date</th>\n",
       "      <th>Title and Day Published</th>\n",
       "      <th>Days Since Published</th>\n",
       "      <th>Daily Views</th>\n",
       "      <th>Daily Likes</th>\n",
       "      <th>Daily Comments</th>\n",
       "    </tr>\n",
       "  </thead>\n",
       "  <tbody>\n",
       "    <tr>\n",
       "      <th>0</th>\n",
       "      <td>2023-01-14</td>\n",
       "      <td>If You Build It, I'll Pay For It! - (2022-12-31)</td>\n",
       "      <td>13</td>\n",
       "      <td>528810</td>\n",
       "      <td>9620</td>\n",
       "      <td>197</td>\n",
       "    </tr>\n",
       "    <tr>\n",
       "      <th>1</th>\n",
       "      <td>2023-01-14</td>\n",
       "      <td>World's Hardest Challenge! - (2022-12-16)</td>\n",
       "      <td>28</td>\n",
       "      <td>134774</td>\n",
       "      <td>1603</td>\n",
       "      <td>46</td>\n",
       "    </tr>\n",
       "    <tr>\n",
       "      <th>2</th>\n",
       "      <td>2023-01-14</td>\n",
       "      <td>100 Youtuber Minecraft Battle Royale! - (2022-...</td>\n",
       "      <td>77</td>\n",
       "      <td>68938</td>\n",
       "      <td>1603</td>\n",
       "      <td>24</td>\n",
       "    </tr>\n",
       "    <tr>\n",
       "      <th>3</th>\n",
       "      <td>2023-01-14</td>\n",
       "      <td>Extreme $1,000,000 Challenge! - (2022-10-12)</td>\n",
       "      <td>93</td>\n",
       "      <td>44078</td>\n",
       "      <td>665</td>\n",
       "      <td>2</td>\n",
       "    </tr>\n",
       "    <tr>\n",
       "      <th>4</th>\n",
       "      <td>2023-01-14</td>\n",
       "      <td>Minecraft with Ultra Realistic Graphics! - (20...</td>\n",
       "      <td>119</td>\n",
       "      <td>312637</td>\n",
       "      <td>5608</td>\n",
       "      <td>23</td>\n",
       "    </tr>\n",
       "    <tr>\n",
       "      <th>...</th>\n",
       "      <td>...</td>\n",
       "      <td>...</td>\n",
       "      <td>...</td>\n",
       "      <td>...</td>\n",
       "      <td>...</td>\n",
       "      <td>...</td>\n",
       "    </tr>\n",
       "    <tr>\n",
       "      <th>271</th>\n",
       "      <td>2023-01-16</td>\n",
       "      <td>$10,000 Obstacle Course - Challenge - (2020-05...</td>\n",
       "      <td>969</td>\n",
       "      <td>5910</td>\n",
       "      <td>109</td>\n",
       "      <td>-3</td>\n",
       "    </tr>\n",
       "    <tr>\n",
       "      <th>272</th>\n",
       "      <td>2023-01-16</td>\n",
       "      <td>Last to Survive Random Blocks wins $10,000 - C...</td>\n",
       "      <td>971</td>\n",
       "      <td>14571</td>\n",
       "      <td>259</td>\n",
       "      <td>1</td>\n",
       "    </tr>\n",
       "    <tr>\n",
       "      <th>273</th>\n",
       "      <td>2023-01-16</td>\n",
       "      <td>Last to Survive Arena wins $10,000 - Challenge...</td>\n",
       "      <td>975</td>\n",
       "      <td>19377</td>\n",
       "      <td>230</td>\n",
       "      <td>0</td>\n",
       "    </tr>\n",
       "    <tr>\n",
       "      <th>274</th>\n",
       "      <td>2023-01-16</td>\n",
       "      <td>$10,000 Bank robbery - Challenge - (2020-05-14)</td>\n",
       "      <td>977</td>\n",
       "      <td>10762</td>\n",
       "      <td>166</td>\n",
       "      <td>1</td>\n",
       "    </tr>\n",
       "    <tr>\n",
       "      <th>275</th>\n",
       "      <td>2023-01-16</td>\n",
       "      <td>Last To Survive Wins $10,000 - Challenge - (20...</td>\n",
       "      <td>979</td>\n",
       "      <td>24871</td>\n",
       "      <td>316</td>\n",
       "      <td>3</td>\n",
       "    </tr>\n",
       "  </tbody>\n",
       "</table>\n",
       "<p>276 rows × 6 columns</p>\n",
       "</div>"
      ],
      "text/plain": [
       "           Date                            Title and Day Published  \\\n",
       "0    2023-01-14   If You Build It, I'll Pay For It! - (2022-12-31)   \n",
       "1    2023-01-14          World's Hardest Challenge! - (2022-12-16)   \n",
       "2    2023-01-14  100 Youtuber Minecraft Battle Royale! - (2022-...   \n",
       "3    2023-01-14       Extreme $1,000,000 Challenge! - (2022-10-12)   \n",
       "4    2023-01-14  Minecraft with Ultra Realistic Graphics! - (20...   \n",
       "..          ...                                                ...   \n",
       "271  2023-01-16  $10,000 Obstacle Course - Challenge - (2020-05...   \n",
       "272  2023-01-16  Last to Survive Random Blocks wins $10,000 - C...   \n",
       "273  2023-01-16  Last to Survive Arena wins $10,000 - Challenge...   \n",
       "274  2023-01-16    $10,000 Bank robbery - Challenge - (2020-05-14)   \n",
       "275  2023-01-16  Last To Survive Wins $10,000 - Challenge - (20...   \n",
       "\n",
       "     Days Since Published  Daily Views  Daily Likes  Daily Comments  \n",
       "0                      13       528810         9620             197  \n",
       "1                      28       134774         1603              46  \n",
       "2                      77        68938         1603              24  \n",
       "3                      93        44078          665               2  \n",
       "4                     119       312637         5608              23  \n",
       "..                    ...          ...          ...             ...  \n",
       "271                   969         5910          109              -3  \n",
       "272                   971        14571          259               1  \n",
       "273                   975        19377          230               0  \n",
       "274                   977        10762          166               1  \n",
       "275                   979        24871          316               3  \n",
       "\n",
       "[276 rows x 6 columns]"
      ]
     },
     "execution_count": 72,
     "metadata": {},
     "output_type": "execute_result"
    }
   ],
   "source": [
    "get_difference_csv(yesterday_video_statistics, video_statistics)"
   ]
  },
  {
   "attachments": {},
   "cell_type": "markdown",
   "metadata": {},
   "source": [
    "### Future Analysis\n",
    "- Analyzing how MrBeast media appearances (podcasts, videos with other creators) impact channel views"
   ]
  }
 ],
 "metadata": {
  "kernelspec": {
   "display_name": "base",
   "language": "python",
   "name": "python3"
  },
  "language_info": {
   "codemirror_mode": {
    "name": "ipython",
    "version": 3
   },
   "file_extension": ".py",
   "mimetype": "text/x-python",
   "name": "python",
   "nbconvert_exporter": "python",
   "pygments_lexer": "ipython3",
   "version": "3.9.13"
  },
  "orig_nbformat": 4,
  "vscode": {
   "interpreter": {
    "hash": "d15392977aa734490223d26b342679585e95cbc4787d918e060c2355fd65303e"
   }
  }
 },
 "nbformat": 4,
 "nbformat_minor": 2
}
